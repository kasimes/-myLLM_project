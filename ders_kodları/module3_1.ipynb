{
 "cells": [
  {
   "cell_type": "code",
   "execution_count": 13,
   "id": "16e5625f",
   "metadata": {},
   "outputs": [
    {
     "name": "stderr",
     "output_type": "stream",
     "text": [
      "C:\\Users\\kasim\\AppData\\Local\\Temp\\ipykernel_9488\\2483573362.py:9: UserWarning: To copy construct from a tensor, it is recommended to use sourceTensor.detach().clone() or sourceTensor.detach().clone().requires_grad_(True), rather than torch.tensor(sourceTensor).\n",
      "  tokens = torch.tensor(tokens).unsqueeze(0)  # Add batch dimension\n"
     ]
    }
   ],
   "source": [
    "import torch\n",
    "import torch.nn as nn\n",
    "from kasim_model import Kasim_Model\n",
    "from kasim_tokenizer import Tokenizer   \n",
    "\n",
    "k_tokenizer=Tokenizer(\"tokenizer.json\")\n",
    "sentence = \"the capital of united states and the capital of france\"\n",
    "tokens = k_tokenizer.encode(sentence)\n",
    "tokens = torch.tensor(tokens).unsqueeze(0)  # Add batch dimension\n",
    "\n",
    "\n"
   ]
  },
  {
   "cell_type": "code",
   "execution_count": 14,
   "id": "465c56ea",
   "metadata": {},
   "outputs": [
    {
     "data": {
      "text/plain": [
       "tensor([[[ 0.5773,  0.2154,  0.5246,  ...,  0.1469,  0.0349, -0.8509],\n",
       "         [ 0.3441, -0.0503,  0.3869,  ..., -0.5260, -0.1955,  0.2970],\n",
       "         [-0.0698, -1.2000,  0.7695,  ...,  0.3392, -1.2433,  0.2541],\n",
       "         ...,\n",
       "         [ 0.2233, -0.9883, -1.0801,  ..., -0.3009,  0.7344,  0.2795],\n",
       "         [ 0.7321,  0.0971, -0.0744,  ...,  1.1271, -0.2298,  0.9680],\n",
       "         [ 0.0103,  0.0353,  0.3010,  ...,  0.4795,  0.2186, -0.2663]]],\n",
       "       grad_fn=<ViewBackward0>)"
      ]
     },
     "execution_count": 14,
     "metadata": {},
     "output_type": "execute_result"
    }
   ],
   "source": [
    "import torch\n",
    "from kasim_model import Kasim_Model\n",
    "torch.manual_seed(42)\n",
    "k_model = Kasim_Model(vocab_size=50257, embed_dim=512, context_length=64, num_heads=8, num_layers=6)\n",
    "sentence_meanings= k_model(tokens)\n",
    "sentence_meanings"
   ]
  },
  {
   "cell_type": "code",
   "execution_count": 15,
   "id": "359d3aea",
   "metadata": {},
   "outputs": [
    {
     "data": {
      "text/plain": [
       "Kasim_Model(\n",
       "  (embedding): Embedding(50257, 512)\n",
       "  (pos_embed): Embedding(64, 512)\n",
       "  (layers): Sequential(\n",
       "    (0): KasimDecoderBlock(\n",
       "      (self_attention): Kasim_Multi_Head_Attention(\n",
       "        (multi_head_attention): MultiheadAttention(\n",
       "          (out_proj): NonDynamicallyQuantizableLinear(in_features=512, out_features=512, bias=True)\n",
       "        )\n",
       "        (projection): Linear(in_features=512, out_features=512, bias=True)\n",
       "      )\n",
       "      (norm1): KasimRMSNorm()\n",
       "      (mlp): KasimMLP(\n",
       "        (gate_proj): Linear(in_features=512, out_features=2048, bias=True)\n",
       "        (up_proj): Linear(in_features=512, out_features=2048, bias=True)\n",
       "        (down_proj): Linear(in_features=2048, out_features=512, bias=True)\n",
       "        (gelu): KasimGelu()\n",
       "      )\n",
       "      (norm2): KasimRMSNorm()\n",
       "    )\n",
       "    (1): KasimDecoderBlock(\n",
       "      (self_attention): Kasim_Multi_Head_Attention(\n",
       "        (multi_head_attention): MultiheadAttention(\n",
       "          (out_proj): NonDynamicallyQuantizableLinear(in_features=512, out_features=512, bias=True)\n",
       "        )\n",
       "        (projection): Linear(in_features=512, out_features=512, bias=True)\n",
       "      )\n",
       "      (norm1): KasimRMSNorm()\n",
       "      (mlp): KasimMLP(\n",
       "        (gate_proj): Linear(in_features=512, out_features=2048, bias=True)\n",
       "        (up_proj): Linear(in_features=512, out_features=2048, bias=True)\n",
       "        (down_proj): Linear(in_features=2048, out_features=512, bias=True)\n",
       "        (gelu): KasimGelu()\n",
       "      )\n",
       "      (norm2): KasimRMSNorm()\n",
       "    )\n",
       "    (2): KasimDecoderBlock(\n",
       "      (self_attention): Kasim_Multi_Head_Attention(\n",
       "        (multi_head_attention): MultiheadAttention(\n",
       "          (out_proj): NonDynamicallyQuantizableLinear(in_features=512, out_features=512, bias=True)\n",
       "        )\n",
       "        (projection): Linear(in_features=512, out_features=512, bias=True)\n",
       "      )\n",
       "      (norm1): KasimRMSNorm()\n",
       "      (mlp): KasimMLP(\n",
       "        (gate_proj): Linear(in_features=512, out_features=2048, bias=True)\n",
       "        (up_proj): Linear(in_features=512, out_features=2048, bias=True)\n",
       "        (down_proj): Linear(in_features=2048, out_features=512, bias=True)\n",
       "        (gelu): KasimGelu()\n",
       "      )\n",
       "      (norm2): KasimRMSNorm()\n",
       "    )\n",
       "    (3): KasimDecoderBlock(\n",
       "      (self_attention): Kasim_Multi_Head_Attention(\n",
       "        (multi_head_attention): MultiheadAttention(\n",
       "          (out_proj): NonDynamicallyQuantizableLinear(in_features=512, out_features=512, bias=True)\n",
       "        )\n",
       "        (projection): Linear(in_features=512, out_features=512, bias=True)\n",
       "      )\n",
       "      (norm1): KasimRMSNorm()\n",
       "      (mlp): KasimMLP(\n",
       "        (gate_proj): Linear(in_features=512, out_features=2048, bias=True)\n",
       "        (up_proj): Linear(in_features=512, out_features=2048, bias=True)\n",
       "        (down_proj): Linear(in_features=2048, out_features=512, bias=True)\n",
       "        (gelu): KasimGelu()\n",
       "      )\n",
       "      (norm2): KasimRMSNorm()\n",
       "    )\n",
       "    (4): KasimDecoderBlock(\n",
       "      (self_attention): Kasim_Multi_Head_Attention(\n",
       "        (multi_head_attention): MultiheadAttention(\n",
       "          (out_proj): NonDynamicallyQuantizableLinear(in_features=512, out_features=512, bias=True)\n",
       "        )\n",
       "        (projection): Linear(in_features=512, out_features=512, bias=True)\n",
       "      )\n",
       "      (norm1): KasimRMSNorm()\n",
       "      (mlp): KasimMLP(\n",
       "        (gate_proj): Linear(in_features=512, out_features=2048, bias=True)\n",
       "        (up_proj): Linear(in_features=512, out_features=2048, bias=True)\n",
       "        (down_proj): Linear(in_features=2048, out_features=512, bias=True)\n",
       "        (gelu): KasimGelu()\n",
       "      )\n",
       "      (norm2): KasimRMSNorm()\n",
       "    )\n",
       "    (5): KasimDecoderBlock(\n",
       "      (self_attention): Kasim_Multi_Head_Attention(\n",
       "        (multi_head_attention): MultiheadAttention(\n",
       "          (out_proj): NonDynamicallyQuantizableLinear(in_features=512, out_features=512, bias=True)\n",
       "        )\n",
       "        (projection): Linear(in_features=512, out_features=512, bias=True)\n",
       "      )\n",
       "      (norm1): KasimRMSNorm()\n",
       "      (mlp): KasimMLP(\n",
       "        (gate_proj): Linear(in_features=512, out_features=2048, bias=True)\n",
       "        (up_proj): Linear(in_features=512, out_features=2048, bias=True)\n",
       "        (down_proj): Linear(in_features=2048, out_features=512, bias=True)\n",
       "        (gelu): KasimGelu()\n",
       "      )\n",
       "      (norm2): KasimRMSNorm()\n",
       "    )\n",
       "  )\n",
       "  (lm_head): Linear(in_features=512, out_features=50257, bias=True)\n",
       ")"
      ]
     },
     "execution_count": 15,
     "metadata": {},
     "output_type": "execute_result"
    }
   ],
   "source": [
    "k_model "
   ]
  },
  {
   "cell_type": "code",
   "execution_count": 16,
   "id": "16594a1e",
   "metadata": {},
   "outputs": [],
   "source": [
    "import torch\n",
    "\n",
    "tahmin=torch.softmax(sentence_meanings[0],dim=-1)"
   ]
  },
  {
   "cell_type": "code",
   "execution_count": 17,
   "id": "fada951f",
   "metadata": {},
   "outputs": [
    {
     "data": {
      "text/plain": [
       "(tensor([0.0002, 0.0003, 0.0003, 0.0003, 0.0003, 0.0003, 0.0002, 0.0002, 0.0005,\n",
       "         0.0002, 0.0002, 0.0002, 0.0002, 0.0002, 0.0003, 0.0002, 0.0002, 0.0002,\n",
       "         0.0002, 0.0002], grad_fn=<MaxBackward0>),\n",
       " tensor([ 7612,  1521,  1850, 16444, 48746, 27303, 15568, 35671,   413, 45854,\n",
       "         44295,  1081, 17252, 25793, 10319, 16030,  1818, 29364, 35223, 34126]),\n",
       " tensor([[2.6860e-05, 1.8705e-05, 2.5481e-05,  ..., 1.7466e-05, 1.5615e-05,\n",
       "          6.4394e-06],\n",
       "         [2.2012e-05, 1.4837e-05, 2.2974e-05,  ..., 9.2212e-06, 1.2832e-05,\n",
       "          2.0998e-05],\n",
       "         [1.4586e-05, 4.7105e-06, 3.3761e-05,  ..., 2.1955e-05, 4.5109e-06,\n",
       "          2.0165e-05],\n",
       "         ...,\n",
       "         [2.0670e-05, 6.1542e-06, 5.6144e-06,  ..., 1.2237e-05, 3.4459e-05,\n",
       "          2.1864e-05],\n",
       "         [3.3645e-05, 1.7829e-05, 1.5019e-05,  ..., 4.9938e-05, 1.2858e-05,\n",
       "          4.2595e-05],\n",
       "         [1.6628e-05, 1.7049e-05, 2.2237e-05,  ..., 2.6584e-05, 2.0479e-05,\n",
       "          1.2609e-05]], grad_fn=<SoftmaxBackward0>))"
      ]
     },
     "execution_count": 17,
     "metadata": {},
     "output_type": "execute_result"
    }
   ],
   "source": [
    "import torch \n",
    "max_prob,max_index =torch.max(tahmin,dim=-1)\n",
    "max_prob,max_index,tahmin"
   ]
  },
  {
   "cell_type": "code",
   "execution_count": null,
   "id": "d1cd8bb9",
   "metadata": {},
   "outputs": [],
   "source": []
  }
 ],
 "metadata": {
  "kernelspec": {
   "display_name": "base",
   "language": "python",
   "name": "python3"
  },
  "language_info": {
   "codemirror_mode": {
    "name": "ipython",
    "version": 3
   },
   "file_extension": ".py",
   "mimetype": "text/x-python",
   "name": "python",
   "nbconvert_exporter": "python",
   "pygments_lexer": "ipython3",
   "version": "3.12.7"
  }
 },
 "nbformat": 4,
 "nbformat_minor": 5
}
