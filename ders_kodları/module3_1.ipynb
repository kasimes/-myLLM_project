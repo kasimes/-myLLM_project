{
 "cells": [
  {
   "cell_type": "code",
   "execution_count": 6,
   "id": "16e5625f",
   "metadata": {},
   "outputs": [
    {
     "name": "stderr",
     "output_type": "stream",
     "text": [
      "C:\\Users\\kasim\\AppData\\Local\\Temp\\ipykernel_4404\\2483573362.py:9: UserWarning: To copy construct from a tensor, it is recommended to use sourceTensor.detach().clone() or sourceTensor.detach().clone().requires_grad_(True), rather than torch.tensor(sourceTensor).\n",
      "  tokens = torch.tensor(tokens).unsqueeze(0)  # Add batch dimension\n"
     ]
    }
   ],
   "source": [
    "import torch\n",
    "import torch.nn as nn\n",
    "from kasim_model import Kasim_Model\n",
    "from kasim_tokenizer import Tokenizer   \n",
    "\n",
    "k_tokenizer=Tokenizer(\"tokenizer.json\")\n",
    "sentence = \"the capital of united states and the capital of france\"\n",
    "tokens = k_tokenizer.encode(sentence)\n",
    "tokens = torch.tensor(tokens).unsqueeze(0)  # Add batch dimension\n",
    "\n",
    "\n"
   ]
  },
  {
   "cell_type": "code",
   "execution_count": 7,
   "id": "465c56ea",
   "metadata": {},
   "outputs": [
    {
     "name": "stdout",
     "output_type": "stream",
     "text": [
      "torch.Size([1, 20, 512])\n"
     ]
    }
   ],
   "source": [
    "import torch\n",
    "from kasim_model import Kasim_Model\n",
    "torch.manual_seed(42)\n",
    "k_model = Kasim_Model(vocab_size=50257, embed_dim=512, context_length=64, num_heads=8, num_layers=6)\n",
    "sentence_meanings= k_model(tokens)\n",
    "print(sentence_meanings.shape)  # Should print: torch.Size([1, seq_len,"
   ]
  },
  {
   "cell_type": "code",
   "execution_count": 8,
   "id": "359d3aea",
   "metadata": {},
   "outputs": [
    {
     "data": {
      "text/plain": [
       "Kasim_Model(\n",
       "  (embedding): Embedding(50257, 512)\n",
       "  (pos_embed): Embedding(64, 512)\n",
       "  (layers): ModuleList(\n",
       "    (0-5): 6 x KasimDecoderBlock(\n",
       "      (self_attention): Kasim_Multi_Head_Attention(\n",
       "        (multi_head_attention): MultiheadAttention(\n",
       "          (out_proj): NonDynamicallyQuantizableLinear(in_features=512, out_features=512, bias=True)\n",
       "        )\n",
       "        (projection): Linear(in_features=512, out_features=512, bias=True)\n",
       "      )\n",
       "      (norm1): KasimRMSNorm()\n",
       "      (mlp): KasimMLP(\n",
       "        (gate_proj): Linear(in_features=512, out_features=2048, bias=True)\n",
       "        (up_proj): Linear(in_features=512, out_features=2048, bias=True)\n",
       "        (down_proj): Linear(in_features=2048, out_features=512, bias=True)\n",
       "        (gelu): KasimGelu()\n",
       "      )\n",
       "      (norm2): KasimRMSNorm()\n",
       "    )\n",
       "  )\n",
       ")"
      ]
     },
     "execution_count": 8,
     "metadata": {},
     "output_type": "execute_result"
    }
   ],
   "source": [
    "k_model "
   ]
  },
  {
   "cell_type": "code",
   "execution_count": null,
   "id": "16594a1e",
   "metadata": {},
   "outputs": [],
   "source": []
  },
  {
   "cell_type": "code",
   "execution_count": null,
   "id": "fada951f",
   "metadata": {},
   "outputs": [],
   "source": []
  }
 ],
 "metadata": {
  "kernelspec": {
   "display_name": "base",
   "language": "python",
   "name": "python3"
  },
  "language_info": {
   "codemirror_mode": {
    "name": "ipython",
    "version": 3
   },
   "file_extension": ".py",
   "mimetype": "text/x-python",
   "name": "python",
   "nbconvert_exporter": "python",
   "pygments_lexer": "ipython3",
   "version": "3.12.7"
  }
 },
 "nbformat": 4,
 "nbformat_minor": 5
}
