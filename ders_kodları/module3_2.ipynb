{
 "cells": [
  {
   "cell_type": "code",
   "execution_count": 1,
   "id": "010ec876",
   "metadata": {},
   "outputs": [],
   "source": [
    "import torch\n",
    "import torch.nn as nn\n",
    "from kasim_model import Kasim_Model\n",
    "from kasim_tokenizer import Tokenizer   \n",
    "\n",
    "k_tokenizer=Tokenizer(\"tokenizer.json\")\n",
    "sentence = \"the capital of united states and the capital of france\"\n",
    "tokens = k_tokenizer.encode(sentence)\n",
    "\n",
    "# tokens tek boyutlu: torch.Size([20])\n",
    "#tokens = torch.tensor(tokens, dtype=torch.long).unsqueeze(0)  # shape: (1, 20)\n"
   ]
  },
  {
   "cell_type": "code",
   "execution_count": 2,
   "id": "06524e56",
   "metadata": {},
   "outputs": [
    {
     "data": {
      "text/plain": [
       "tensor([[[ 1.0027, -0.2371,  0.1524,  ..., -0.8848,  0.0712, -0.4777],\n",
       "         [ 0.8178,  0.1030,  0.5122,  ..., -0.0734, -0.4696, -0.3232],\n",
       "         [-0.0568, -0.2326,  0.6673,  ..., -0.2054,  0.3452, -0.5464],\n",
       "         ...,\n",
       "         [ 0.4542,  0.5544, -0.2031,  ..., -0.9396,  0.4425, -0.5962],\n",
       "         [ 0.5401,  0.3818, -0.1819,  ..., -0.9542,  0.4007, -0.5338],\n",
       "         [-0.2047,  0.4979,  0.5536,  ...,  0.2556, -0.0049, -0.3784]]],\n",
       "       grad_fn=<ViewBackward0>)"
      ]
     },
     "execution_count": 2,
     "metadata": {},
     "output_type": "execute_result"
    }
   ],
   "source": [
    "import torch\n",
    "from kasim_model import Kasim_Model\n",
    "torch.manual_seed(1)\n",
    "k_model = Kasim_Model(vocab_size=len(k_tokenizer.vocab), embed_dim=4, context_length=32, num_heads=2, num_layers=1)\n",
    "sentence_meanings= k_model(tokens)\n",
    "sentence_meanings\n"
   ]
  },
  {
   "cell_type": "code",
   "execution_count": 6,
   "id": "9086d134",
   "metadata": {},
   "outputs": [
    {
     "data": {
      "text/plain": [
       "'the capital of the united states is not london. the capital of france is paris, and berlin is the capital of germany. rome is in italy, \\n\\nmadrid is in spain, and lisbon is in portugal. the capital of the united kingdom is not paris, and the capital of the united states is not berlin. \\nalthough these places are often mentioned together, although these capitals are often mentioned together, although these are often mentioned together, \\neach country has its own capital, and each country has its own city, and each capital has its own identity, and each capital has its own history. washington \\nis the capital of the united states, and london is the capital of the united kingdom. paris is known for art and fashion, and berlin is known for art and \\nhistory, and rome is known for art and history, and madrid is known for culture and history, and lisbon is known for culture and art. rome is rich with culture, \\nrome is rich with history, rome is rich with art, and madrid is rich with art and culture. lisbon is a unique city in portugal with a rich history, a rich culture, \\nand a rich identity. these capitals are often mentioned together, these capitals are often mentioned together in art, these capitals are often mentioned together \\nin culture, these capitals are often mentioned together in history. the united states is not in europe, the united states is not in any european place, and \\nwashington is not in any european city. each european country is made of important capitals, and each european capital is made of art, history, and culture. \\nthe capital of the united states is washington, the capital of the united kingdom is london, the capital of france is paris, the capital of germany is berlin, \\nthe capital of italy is rome, the capital of spain is madrid, and the capital of portugal is lisbon. while these capitals are in europe, while these capitals are \\nin europe, washington is in the united states. these capitals remain important, these remain important, these places remain important in the world. the \\ncapital of each country is its own, the capital of each country is its identity, the capital of each country is its culture. europe is made of many, \\neurope is made of many capitals, europe is made of many important places. each place is rich with culture, each place is rich with history, and each capital is \\n\\nrich with identity. the world is made of capitals, the world is made of, the world is made of places, and the capital of the united states is washington, \\nnot any european city, not paris, not london, not berlin. the capital of the united states is not london. the capital of france is paris, and berlin is the capital of germany.\\nrome is in italy, madrid is in spain, and lisbon is in portugal. the capital of the united kingdom is not paris, and the capital of the united \\nstates is not berlin. although these places are often mentioned together, each country has its own capital, and each capital has its own identity. \\nwashington is the capital of the united states, and london is the capital of the united kingdom. paris is known for art and fashion, while berlin is \\nfamous for its culture and history. rome is rich with history, and madrid is known for its art and culture. lisbon is a unique city in portugal \\nwith a rich history. these capitals are often mentioned together, although each place with its own culture. the united states is not in europe, \\nand washington is not in any european country. these european capitals are made of history, culture, and identity. each country in europe has a capital, \\nand each capital is known for important. london, paris, berlin, rome, madrid, and lisbon remain important places in the world. while these capitals\\nare in europe, washington is in the united states. although these places are not in the country, they are often mentioned together in art, culture, \\nand history. the capital of each country is its own. europe is made of many capitals, and each has a capital with a unique history. \\nthe world is of important places, and the capital of the united states is washington, not any european city city.'"
      ]
     },
     "execution_count": 6,
     "metadata": {},
     "output_type": "execute_result"
    }
   ],
   "source": [
    "with open (\"text.txt\",\"r\") as f:\n",
    "    text=f.read()\n",
    "\n",
    "text    "
   ]
  },
  {
   "cell_type": "code",
   "execution_count": 7,
   "id": "b439dd74",
   "metadata": {},
   "outputs": [
    {
     "data": {
      "text/plain": [
       "1595"
      ]
     },
     "execution_count": 7,
     "metadata": {},
     "output_type": "execute_result"
    }
   ],
   "source": [
    "token_id=k_tokenizer.encode(text)\n",
    "len(token_id)"
   ]
  },
  {
   "cell_type": "code",
   "execution_count": null,
   "id": "ff68327b",
   "metadata": {},
   "outputs": [],
   "source": []
  },
  {
   "cell_type": "code",
   "execution_count": 4,
   "id": "6cdfe41e",
   "metadata": {},
   "outputs": [
    {
     "ename": "NameError",
     "evalue": "name 'token_ids' is not defined",
     "output_type": "error",
     "traceback": [
      "\u001b[1;31m---------------------------------------------------------------------------\u001b[0m",
      "\u001b[1;31mNameError\u001b[0m                                 Traceback (most recent call last)",
      "Cell \u001b[1;32mIn[4], line 5\u001b[0m\n\u001b[0;32m      1\u001b[0m \u001b[38;5;28;01mfrom\u001b[39;00m \u001b[38;5;21;01mtext_dataset\u001b[39;00m \u001b[38;5;28;01mimport\u001b[39;00m TextDataset\n\u001b[0;32m      3\u001b[0m stride \u001b[38;5;241m=\u001b[39m \u001b[38;5;241m12\u001b[39m\n\u001b[1;32m----> 5\u001b[0m dataset\u001b[38;5;241m=\u001b[39mTextDataset(token_ids,context_length,stride)\n\u001b[0;32m      6\u001b[0m dataset\u001b[38;5;241m.\u001b[39minputs[\u001b[38;5;241m0\u001b[39m]\n",
      "\u001b[1;31mNameError\u001b[0m: name 'token_ids' is not defined"
     ]
    }
   ],
   "source": [
    "from text_dataset import TextDataset\n",
    "\n",
    "stride = 12\n",
    "\n",
    "dataset=TextDataset(token_ids,context_length,stride)\n",
    "dataset.inputs[0]"
   ]
  },
  {
   "cell_type": "code",
   "execution_count": null,
   "id": "0b84f9a4",
   "metadata": {},
   "outputs": [],
   "source": []
  }
 ],
 "metadata": {
  "kernelspec": {
   "display_name": "base",
   "language": "python",
   "name": "python3"
  },
  "language_info": {
   "codemirror_mode": {
    "name": "ipython",
    "version": 3
   },
   "file_extension": ".py",
   "mimetype": "text/x-python",
   "name": "python",
   "nbconvert_exporter": "python",
   "pygments_lexer": "ipython3",
   "version": "3.12.7"
  }
 },
 "nbformat": 4,
 "nbformat_minor": 5
}
