{
 "cells": [
  {
   "cell_type": "code",
   "execution_count": 11,
   "id": "0d94f914",
   "metadata": {},
   "outputs": [
    {
     "name": "stderr",
     "output_type": "stream",
     "text": [
      "C:\\Users\\kasim\\AppData\\Local\\Temp\\ipykernel_1892\\1443349770.py:9: UserWarning: To copy construct from a tensor, it is recommended to use sourceTensor.detach().clone() or sourceTensor.detach().clone().requires_grad_(True), rather than torch.tensor(sourceTensor).\n",
      "  tokens = torch.tensor(tokens).unsqueeze(0)  # Add batch dimension\n"
     ]
    },
    {
     "data": {
      "text/plain": [
       "Kasim_Model(\n",
       "  (embedding): Embedding(64, 4)\n",
       "  (pos_embed): Embedding(32, 4)\n",
       "  (self_attention): Kasim_Multi_Head_Attention(\n",
       "    (multi_head_attention): MultiheadAttention(\n",
       "      (out_proj): NonDynamicallyQuantizableLinear(in_features=4, out_features=4, bias=True)\n",
       "    )\n",
       "    (projection): Linear(in_features=4, out_features=4, bias=True)\n",
       "  )\n",
       "  (layer_norm): KasimRMSNorm()\n",
       ")"
      ]
     },
     "execution_count": 11,
     "metadata": {},
     "output_type": "execute_result"
    }
   ],
   "source": [
    "import torch\n",
    "import torch.nn as nn\n",
    "from kasim_model import Kasim_Model\n",
    "from kasim_tokenizer import Tokenizer   \n",
    "\n",
    "k_tokenizer=Tokenizer(\"tokenizer.json\")\n",
    "sentence = \"the capital of united states and the capital of france\"\n",
    "tokens = k_tokenizer.encode(sentence)\n",
    "tokens = torch.tensor(tokens).unsqueeze(0)  # Add batch dimension\n",
    "\n",
    "\n",
    "k_model = Kasim_Model(vocab_size=len(k_tokenizer.vocab), embed_dim=4, context_length=32)\n",
    "k_model\n"
   ]
  },
  {
   "cell_type": "code",
   "execution_count": null,
   "id": "65bfc1e0",
   "metadata": {},
   "outputs": [],
   "source": []
  },
  {
   "cell_type": "code",
   "execution_count": 7,
   "id": "bdbc39b9",
   "metadata": {},
   "outputs": [
    {
     "data": {
      "text/plain": [
       "tensor([[[ 6.5979e-01, -5.7790e-01,  1.6746e-01, -6.6660e-01],\n",
       "         [ 3.4240e-01, -2.7027e-01,  9.1047e-02, -4.8475e-01],\n",
       "         [ 5.7518e-02, -3.1539e-02, -4.7680e-02,  1.5087e-02],\n",
       "         [ 1.6371e-01, -1.3049e-01, -1.6156e-02, -7.7814e-02],\n",
       "         [ 0.0000e+00,  0.0000e+00,  0.0000e+00,  0.0000e+00],\n",
       "         [ 2.2928e-01, -4.0661e-01,  4.0655e-02, -4.7999e-02],\n",
       "         [ 9.8098e-02, -7.7434e-02,  2.6085e-02, -1.3888e-01],\n",
       "         [ 4.0027e-02, -4.1049e-02, -2.0742e-02, -7.4604e-03],\n",
       "         [ 8.4715e-02, -1.1791e-01,  7.1326e-03, -3.9499e-02],\n",
       "         [ 2.4668e-01, -1.3704e-01, -1.2420e-02, -2.9597e-01],\n",
       "         [-3.3944e-02,  1.3298e-01, -9.6689e-02,  4.4016e-02],\n",
       "         [ 7.4738e-02,  1.7528e-01, -1.0887e-01, -1.3570e-01],\n",
       "         [ 3.3311e-02,  2.5878e-01, -2.3116e-01,  1.1625e-02],\n",
       "         [ 1.6578e-01, -3.4468e-02, -1.0083e-01, -1.1692e-01],\n",
       "         [ 1.5113e-01, -1.7906e-01, -3.0293e-02, -5.1137e-02],\n",
       "         [ 8.0528e-02, -6.2598e-02, -3.7555e-03, -7.7907e-02],\n",
       "         [ 1.1509e-01, -1.1603e-01,  9.8189e-04, -1.2249e-01],\n",
       "         [ 2.6056e-02,  4.8997e-04, -5.6118e-03, -4.1869e-02],\n",
       "         [-1.4276e-02,  2.3531e-01, -1.9506e-01,  8.9122e-02],\n",
       "         [ 1.0364e-01, -1.7536e-01,  2.6120e-02, -7.7663e-02]]],\n",
       "       grad_fn=<UnsafeViewBackward0>)"
      ]
     },
     "execution_count": 7,
     "metadata": {},
     "output_type": "execute_result"
    }
   ],
   "source": [
    "sentence_meanings_whith_attention"
   ]
  },
  {
   "cell_type": "code",
   "execution_count": 9,
   "id": "84bd9755",
   "metadata": {},
   "outputs": [],
   "source": [
    "import torch\n",
    "from torch import nn\n",
    "from kasim_causal_attention import KasimCausalAttention\n",
    "\n",
    "class Kasim_Multi_Head_Attention(nn.Module):\n",
    "    def __init__(self, embed_dim, num_heads,output_dim,context_length,dropout_rate=0):\n",
    "        super().__init__()\n",
    "        self.heads = nn.ModuleList([KasimCausalAttention(embed_dim,output_dim,context_length,dropout_rate) for _ in range(num_heads)])\n",
    "            \n",
    "    def forward(self, x):\n",
    "        attention_outs=[]\n",
    "        for head in self.heads:\n",
    "            attention_outs.append(head(x))\n",
    "\n",
    "        return torch.cat(attention_outs, dim=1)\n",
    "        "
   ]
  },
  {
   "cell_type": "code",
   "execution_count": 4,
   "id": "7bd547db",
   "metadata": {},
   "outputs": [
    {
     "data": {
      "text/plain": [
       "tensor([[[-0.1291,  1.4138,  0.2813, -0.7558],\n",
       "         [-0.1502,  0.5889, -0.1072, -0.4103],\n",
       "         [-0.0934,  0.3247, -0.2100, -0.1048],\n",
       "         [-0.1181,  0.6670,  0.0152, -0.3340],\n",
       "         [-0.0481,  0.0661, -0.1237,  0.1204],\n",
       "         [-0.1252,  0.0092, -0.1250, -0.0446],\n",
       "         [-0.0291,  0.0139, -0.1151, -0.0398],\n",
       "         [-0.0588,  0.4638, -0.0203, -0.2089],\n",
       "         [ 0.4359, -0.3630,  0.0090,  0.2094],\n",
       "         [ 0.0030, -0.1059, -0.0582,  0.1329],\n",
       "         [-1.1579, -1.4339,  1.6106, -0.9951],\n",
       "         [-0.7675, -0.9823,  1.1520, -0.3146],\n",
       "         [-0.6445, -0.6725,  0.9247, -0.1615],\n",
       "         [-0.1802, -0.1286,  0.2798,  0.0718],\n",
       "         [-0.1963, -0.0689,  0.2455, -0.0268],\n",
       "         [ 0.1226,  0.2401, -0.1386,  0.3176],\n",
       "         [ 0.1814,  0.1904, -0.2165,  0.2567],\n",
       "         [ 0.3426,  0.2555, -0.4573,  0.1675],\n",
       "         [ 0.2824,  0.2331, -0.4230,  0.0329],\n",
       "         [-0.0652, -0.0405,  0.0716,  0.0215]]], grad_fn=<CatBackward0>)"
      ]
     },
     "execution_count": 4,
     "metadata": {},
     "output_type": "execute_result"
    }
   ],
   "source": [
    "mullti_head_attention = Kasim_Multi_Head_Attention(embed_dim=4, num_heads=2,output_dim=4,context_length=32)\n",
    "out=mullti_head_attention(torch.randn(1,10,4))\n",
    "out"
   ]
  },
  {
   "cell_type": "code",
   "execution_count": 6,
   "id": "99ee2b85",
   "metadata": {},
   "outputs": [
    {
     "data": {
      "text/plain": [
       "tensor([[[-0.4193,  1.5316,  0.0996, -1.2118],\n",
       "         [-0.3527,  1.6448, -0.2364, -1.0556],\n",
       "         [-0.3545,  1.6888, -0.9243, -0.4100],\n",
       "         [-0.4705,  1.6327, -0.1134, -1.0488],\n",
       "         [-0.5425,  0.6541, -1.3347,  1.2231],\n",
       "         [-0.9442,  1.4141, -0.9410,  0.4712],\n",
       "         [ 0.2897,  1.2133, -1.5616,  0.0586],\n",
       "         [-0.4070,  1.6631, -0.2544, -1.0017],\n",
       "         [ 1.2372, -1.4851, -0.2174,  0.4652],\n",
       "         [ 0.1124, -1.1037, -0.5715,  1.5628],\n",
       "         [-0.5418, -0.7671,  1.7178, -0.4090],\n",
       "         [-0.6479, -0.9060,  1.6579, -0.1039],\n",
       "         [-0.7827, -0.8260,  1.6443, -0.0357],\n",
       "         [-1.0509, -0.7668,  1.4814,  0.3363],\n",
       "         [-1.1469, -0.3556,  1.5966, -0.0942],\n",
       "         [-0.0740,  0.6057, -1.5861,  1.0545],\n",
       "         [ 0.4197,  0.4682, -1.7109,  0.8230],\n",
       "         [ 0.8438,  0.5670, -1.6982,  0.2874],\n",
       "         [ 0.9015,  0.7246, -1.6316,  0.0055],\n",
       "         [-1.1597, -0.6985,  1.3977,  0.4606]]], grad_fn=<MulBackward0>)"
      ]
     },
     "execution_count": 6,
     "metadata": {},
     "output_type": "execute_result"
    }
   ],
   "source": [
    "from kasim_layer_norm import KasimLayerNorm\n",
    "norm_layer = KasimLayerNorm(4)\n",
    "norm_layer(out)"
   ]
  },
  {
   "cell_type": "code",
   "execution_count": 7,
   "id": "c28745c4",
   "metadata": {},
   "outputs": [
    {
     "name": "stdout",
     "output_type": "stream",
     "text": [
      "Orijinal tensor:\n",
      " tensor([[[ 1.3390,  0.1829,  0.4039],\n",
      "         [ 1.0681,  0.3448, -1.7740],\n",
      "         [ 0.0495,  0.2825,  0.2107],\n",
      "         [-0.4569,  0.6818, -1.2625]],\n",
      "\n",
      "        [[-0.1972, -0.3156, -0.4682],\n",
      "         [ 0.4632,  0.1103,  2.7721],\n",
      "         [-0.7135, -1.2071, -1.0836],\n",
      "         [-0.5954, -0.0914, -0.1274]]])\n",
      "\n",
      "LayerNorm sonrası tensor:\n",
      " tensor([[[ 1.3911, -0.9161, -0.4750],\n",
      "         [ 0.9855,  0.3857, -1.3712],\n",
      "         [-1.3479,  1.0424,  0.3055],\n",
      "         [-0.1392,  1.2884, -1.1492]],\n",
      "\n",
      "        [[ 1.1699,  0.1023, -1.2722],\n",
      "         [-0.5523, -0.8513,  1.4036],\n",
      "         [ 1.3726, -0.9807, -0.3919],\n",
      "         [-1.4112,  0.7841,  0.6271]]], grad_fn=<NativeLayerNormBackward0>)\n",
      "\n",
      "Ortalama: tensor([[ 7.9473e-08, -3.9736e-08, -3.9736e-08,  0.0000e+00],\n",
      "        [-7.9473e-08,  3.9736e-08, -1.0928e-07,  5.9605e-08]],\n",
      "       grad_fn=<MeanBackward1>)\n",
      "Varyans: tensor([[1.4999, 1.5000, 1.4984, 1.5000],\n",
      "        [1.4988, 1.5000, 1.4997, 1.4997]], grad_fn=<VarBackward0>)\n"
     ]
    }
   ],
   "source": [
    "import torch\n",
    "import torch.nn as nn\n",
    "\n",
    "# Diyelim ki elimizde 2 cümle (batch=2), her cümlede 4 token var (seq_len=4), embedding boyutu 3\n",
    "x = torch.randn(2, 4, 3)  \n",
    "print(\"Orijinal tensor:\\n\", x)\n",
    "\n",
    "# LayerNorm tanımla (embedding boyutuna göre)\n",
    "layer_norm = nn.LayerNorm(3)\n",
    "\n",
    "# LayerNorm uygula\n",
    "out = layer_norm(x)\n",
    "\n",
    "print(\"\\nLayerNorm sonrası tensor:\\n\", out)\n",
    "\n",
    "# Ortalama ve varyans kontrolü\n",
    "print(\"\\nOrtalama:\", out.mean(-1))   # Her token embeddinginin ortalaması ~0\n",
    "print(\"Varyans:\", out.var(-1))       # Her token embeddinginin varyansı ~1\n"
   ]
  },
  {
   "cell_type": "code",
   "execution_count": 13,
   "id": "99944e99",
   "metadata": {},
   "outputs": [
    {
     "data": {
      "application/vnd.jupyter.widget-view+json": {
       "model_id": "6690a46d83254f59b55abc36adb5859a",
       "version_major": 2,
       "version_minor": 0
      },
      "text/plain": [
       "tokenizer_config.json: 0.00B [00:00, ?B/s]"
      ]
     },
     "metadata": {},
     "output_type": "display_data"
    },
    {
     "name": "stderr",
     "output_type": "stream",
     "text": [
      "c:\\Users\\kasim\\anaconda3\\Lib\\site-packages\\huggingface_hub\\file_download.py:143: UserWarning: `huggingface_hub` cache-system uses symlinks by default to efficiently store duplicated files but your machine does not support them in C:\\Users\\kasim\\.cache\\huggingface\\hub\\models--Qwen--Qwen3-0.6B. Caching files will still work but in a degraded version that might require more space on your disk. This warning can be disabled by setting the `HF_HUB_DISABLE_SYMLINKS_WARNING` environment variable. For more details, see https://huggingface.co/docs/huggingface_hub/how-to-cache#limitations.\n",
      "To support symlinks on Windows, you either need to activate Developer Mode or to run Python as an administrator. In order to activate developer mode, see this article: https://docs.microsoft.com/en-us/windows/apps/get-started/enable-your-device-for-development\n",
      "  warnings.warn(message)\n"
     ]
    },
    {
     "data": {
      "application/vnd.jupyter.widget-view+json": {
       "model_id": "3415bdd63fb245c6b184e8a5b699942e",
       "version_major": 2,
       "version_minor": 0
      },
      "text/plain": [
       "vocab.json: 0.00B [00:00, ?B/s]"
      ]
     },
     "metadata": {},
     "output_type": "display_data"
    },
    {
     "data": {
      "application/vnd.jupyter.widget-view+json": {
       "model_id": "43b652bed86b457cb59320e22541fc0b",
       "version_major": 2,
       "version_minor": 0
      },
      "text/plain": [
       "merges.txt: 0.00B [00:00, ?B/s]"
      ]
     },
     "metadata": {},
     "output_type": "display_data"
    },
    {
     "name": "stderr",
     "output_type": "stream",
     "text": [
      "Xet Storage is enabled for this repo, but the 'hf_xet' package is not installed. Falling back to regular HTTP download. For better performance, install the package with: `pip install huggingface_hub[hf_xet]` or `pip install hf_xet`\n"
     ]
    },
    {
     "data": {
      "application/vnd.jupyter.widget-view+json": {
       "model_id": "3ffc6adb6de54ba78135ecdef07c480b",
       "version_major": 2,
       "version_minor": 0
      },
      "text/plain": [
       "tokenizer.json:   0%|          | 0.00/11.4M [00:00<?, ?B/s]"
      ]
     },
     "metadata": {},
     "output_type": "display_data"
    },
    {
     "data": {
      "application/vnd.jupyter.widget-view+json": {
       "model_id": "9df537825b514553bed8477be6bba0d5",
       "version_major": 2,
       "version_minor": 0
      },
      "text/plain": [
       "config.json:   0%|          | 0.00/726 [00:00<?, ?B/s]"
      ]
     },
     "metadata": {},
     "output_type": "display_data"
    },
    {
     "name": "stderr",
     "output_type": "stream",
     "text": [
      "Xet Storage is enabled for this repo, but the 'hf_xet' package is not installed. Falling back to regular HTTP download. For better performance, install the package with: `pip install huggingface_hub[hf_xet]` or `pip install hf_xet`\n"
     ]
    },
    {
     "data": {
      "application/vnd.jupyter.widget-view+json": {
       "model_id": "e3fdeca1508e4843ad10708efdc722cc",
       "version_major": 2,
       "version_minor": 0
      },
      "text/plain": [
       "model.safetensors:   0%|          | 0.00/1.50G [00:00<?, ?B/s]"
      ]
     },
     "metadata": {},
     "output_type": "display_data"
    },
    {
     "data": {
      "application/vnd.jupyter.widget-view+json": {
       "model_id": "82596fc9abb44e08bf21d921e6ffe418",
       "version_major": 2,
       "version_minor": 0
      },
      "text/plain": [
       "generation_config.json:   0%|          | 0.00/239 [00:00<?, ?B/s]"
      ]
     },
     "metadata": {},
     "output_type": "display_data"
    }
   ],
   "source": [
    "# Load model directly\n",
    "from transformers import AutoTokenizer, AutoModelForCausalLM\n",
    "\n",
    "q_tokenizer = AutoTokenizer.from_pretrained(\"Qwen/Qwen3-0.6B\")\n",
    "q_model = AutoModelForCausalLM.from_pretrained(\"Qwen/Qwen3-0.6B\")"
   ]
  },
  {
   "cell_type": "code",
   "execution_count": 14,
   "id": "4464fdd6",
   "metadata": {},
   "outputs": [
    {
     "data": {
      "text/plain": [
       "Qwen3ForCausalLM(\n",
       "  (model): Qwen3Model(\n",
       "    (embed_tokens): Embedding(151936, 1024)\n",
       "    (layers): ModuleList(\n",
       "      (0-27): 28 x Qwen3DecoderLayer(\n",
       "        (self_attn): Qwen3Attention(\n",
       "          (q_proj): Linear(in_features=1024, out_features=2048, bias=False)\n",
       "          (k_proj): Linear(in_features=1024, out_features=1024, bias=False)\n",
       "          (v_proj): Linear(in_features=1024, out_features=1024, bias=False)\n",
       "          (o_proj): Linear(in_features=2048, out_features=1024, bias=False)\n",
       "          (q_norm): Qwen3RMSNorm((128,), eps=1e-06)\n",
       "          (k_norm): Qwen3RMSNorm((128,), eps=1e-06)\n",
       "        )\n",
       "        (mlp): Qwen3MLP(\n",
       "          (gate_proj): Linear(in_features=1024, out_features=3072, bias=False)\n",
       "          (up_proj): Linear(in_features=1024, out_features=3072, bias=False)\n",
       "          (down_proj): Linear(in_features=3072, out_features=1024, bias=False)\n",
       "          (act_fn): SiLU()\n",
       "        )\n",
       "        (input_layernorm): Qwen3RMSNorm((1024,), eps=1e-06)\n",
       "        (post_attention_layernorm): Qwen3RMSNorm((1024,), eps=1e-06)\n",
       "      )\n",
       "    )\n",
       "    (norm): Qwen3RMSNorm((1024,), eps=1e-06)\n",
       "    (rotary_emb): Qwen3RotaryEmbedding()\n",
       "  )\n",
       "  (lm_head): Linear(in_features=1024, out_features=151936, bias=False)\n",
       ")"
      ]
     },
     "execution_count": 14,
     "metadata": {},
     "output_type": "execute_result"
    }
   ],
   "source": [
    "q_model"
   ]
  },
  {
   "cell_type": "code",
   "execution_count": 15,
   "id": "54d9bd4f",
   "metadata": {},
   "outputs": [
    {
     "data": {
      "text/plain": [
       "Kasim_Model(\n",
       "  (embedding): Embedding(64, 4)\n",
       "  (pos_embed): Embedding(32, 4)\n",
       "  (self_attention): Kasim_Multi_Head_Attention(\n",
       "    (multi_head_attention): MultiheadAttention(\n",
       "      (out_proj): NonDynamicallyQuantizableLinear(in_features=4, out_features=4, bias=True)\n",
       "    )\n",
       "    (projection): Linear(in_features=4, out_features=4, bias=True)\n",
       "  )\n",
       "  (layer_norm): KasimRMSNorm()\n",
       ")"
      ]
     },
     "execution_count": 15,
     "metadata": {},
     "output_type": "execute_result"
    }
   ],
   "source": [
    "k_model"
   ]
  },
  {
   "cell_type": "code",
   "execution_count": null,
   "id": "4b0ad8cb",
   "metadata": {},
   "outputs": [],
   "source": []
  }
 ],
 "metadata": {
  "kernelspec": {
   "display_name": "base",
   "language": "python",
   "name": "python3"
  },
  "language_info": {
   "codemirror_mode": {
    "name": "ipython",
    "version": 3
   },
   "file_extension": ".py",
   "mimetype": "text/x-python",
   "name": "python",
   "nbconvert_exporter": "python",
   "pygments_lexer": "ipython3",
   "version": "3.12.7"
  }
 },
 "nbformat": 4,
 "nbformat_minor": 5
}
