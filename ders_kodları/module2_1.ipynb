{
 "cells": [
  {
   "cell_type": "code",
   "execution_count": 5,
   "id": "0d94f914",
   "metadata": {},
   "outputs": [
    {
     "name": "stderr",
     "output_type": "stream",
     "text": [
      "C:\\Users\\kasim\\AppData\\Local\\Temp\\ipykernel_25388\\1443349770.py:9: UserWarning: To copy construct from a tensor, it is recommended to use sourceTensor.detach().clone() or sourceTensor.detach().clone().requires_grad_(True), rather than torch.tensor(sourceTensor).\n",
      "  tokens = torch.tensor(tokens).unsqueeze(0)  # Add batch dimension\n"
     ]
    },
    {
     "data": {
      "text/plain": [
       "Kasim_Model(\n",
       "  (embedding): Embedding(64, 4)\n",
       "  (pos_embed): Embedding(32, 4)\n",
       "  (self_attention): KasimCausalAttention(\n",
       "    (q_weight): Linear(in_features=4, out_features=4, bias=False)\n",
       "    (k_weight): Linear(in_features=4, out_features=4, bias=False)\n",
       "    (v_weight): Linear(in_features=4, out_features=4, bias=False)\n",
       "    (dropout): Dropout(p=0.5, inplace=False)\n",
       "  )\n",
       ")"
      ]
     },
     "execution_count": 5,
     "metadata": {},
     "output_type": "execute_result"
    }
   ],
   "source": [
    "import torch\n",
    "import torch.nn as nn\n",
    "from kasim_model import Kasim_Model\n",
    "from kasim_tokenizer import Tokenizer   \n",
    "\n",
    "k_tokenizer=Tokenizer(\"tokenizer.json\")\n",
    "sentence = \"the capital of united states and the capital of france\"\n",
    "tokens = k_tokenizer.encode(sentence)\n",
    "tokens = torch.tensor(tokens).unsqueeze(0)  # Add batch dimension\n",
    "\n",
    "\n",
    "k_model = Kasim_Model(vocab_size=len(k_tokenizer.vocab), embed_dim=4, context_length=32)\n",
    "k_model\n"
   ]
  },
  {
   "cell_type": "code",
   "execution_count": 6,
   "id": "65bfc1e0",
   "metadata": {},
   "outputs": [
    {
     "data": {
      "text/plain": [
       "tensor([[[ 6.5979e-01, -5.7790e-01,  1.6746e-01, -6.6660e-01],\n",
       "         [ 3.4240e-01, -2.7027e-01,  9.1047e-02, -4.8475e-01],\n",
       "         [ 5.7518e-02, -3.1539e-02, -4.7680e-02,  1.5087e-02],\n",
       "         [ 1.6371e-01, -1.3049e-01, -1.6156e-02, -7.7814e-02],\n",
       "         [ 0.0000e+00,  0.0000e+00,  0.0000e+00,  0.0000e+00],\n",
       "         [ 2.2928e-01, -4.0661e-01,  4.0655e-02, -4.7999e-02],\n",
       "         [ 9.8098e-02, -7.7434e-02,  2.6085e-02, -1.3888e-01],\n",
       "         [ 4.0027e-02, -4.1049e-02, -2.0742e-02, -7.4604e-03],\n",
       "         [ 8.4715e-02, -1.1791e-01,  7.1326e-03, -3.9499e-02],\n",
       "         [ 2.4668e-01, -1.3704e-01, -1.2420e-02, -2.9597e-01],\n",
       "         [-3.3944e-02,  1.3298e-01, -9.6689e-02,  4.4016e-02],\n",
       "         [ 7.4738e-02,  1.7528e-01, -1.0887e-01, -1.3570e-01],\n",
       "         [ 3.3311e-02,  2.5878e-01, -2.3116e-01,  1.1625e-02],\n",
       "         [ 1.6578e-01, -3.4468e-02, -1.0083e-01, -1.1692e-01],\n",
       "         [ 1.5113e-01, -1.7906e-01, -3.0293e-02, -5.1137e-02],\n",
       "         [ 8.0528e-02, -6.2598e-02, -3.7555e-03, -7.7907e-02],\n",
       "         [ 1.1509e-01, -1.1603e-01,  9.8189e-04, -1.2249e-01],\n",
       "         [ 2.6056e-02,  4.8997e-04, -5.6118e-03, -4.1869e-02],\n",
       "         [-1.4276e-02,  2.3531e-01, -1.9506e-01,  8.9122e-02],\n",
       "         [ 1.0364e-01, -1.7536e-01,  2.6120e-02, -7.7663e-02]]],\n",
       "       grad_fn=<UnsafeViewBackward0>)"
      ]
     },
     "execution_count": 6,
     "metadata": {},
     "output_type": "execute_result"
    }
   ],
   "source": [
    "sentence_meanings_whith_attention = k_model(tokens)\n",
    "sentence_meanings_whith_attention"
   ]
  },
  {
   "cell_type": "code",
   "execution_count": 7,
   "id": "bdbc39b9",
   "metadata": {},
   "outputs": [
    {
     "data": {
      "text/plain": [
       "tensor([[[ 6.5979e-01, -5.7790e-01,  1.6746e-01, -6.6660e-01],\n",
       "         [ 3.4240e-01, -2.7027e-01,  9.1047e-02, -4.8475e-01],\n",
       "         [ 5.7518e-02, -3.1539e-02, -4.7680e-02,  1.5087e-02],\n",
       "         [ 1.6371e-01, -1.3049e-01, -1.6156e-02, -7.7814e-02],\n",
       "         [ 0.0000e+00,  0.0000e+00,  0.0000e+00,  0.0000e+00],\n",
       "         [ 2.2928e-01, -4.0661e-01,  4.0655e-02, -4.7999e-02],\n",
       "         [ 9.8098e-02, -7.7434e-02,  2.6085e-02, -1.3888e-01],\n",
       "         [ 4.0027e-02, -4.1049e-02, -2.0742e-02, -7.4604e-03],\n",
       "         [ 8.4715e-02, -1.1791e-01,  7.1326e-03, -3.9499e-02],\n",
       "         [ 2.4668e-01, -1.3704e-01, -1.2420e-02, -2.9597e-01],\n",
       "         [-3.3944e-02,  1.3298e-01, -9.6689e-02,  4.4016e-02],\n",
       "         [ 7.4738e-02,  1.7528e-01, -1.0887e-01, -1.3570e-01],\n",
       "         [ 3.3311e-02,  2.5878e-01, -2.3116e-01,  1.1625e-02],\n",
       "         [ 1.6578e-01, -3.4468e-02, -1.0083e-01, -1.1692e-01],\n",
       "         [ 1.5113e-01, -1.7906e-01, -3.0293e-02, -5.1137e-02],\n",
       "         [ 8.0528e-02, -6.2598e-02, -3.7555e-03, -7.7907e-02],\n",
       "         [ 1.1509e-01, -1.1603e-01,  9.8189e-04, -1.2249e-01],\n",
       "         [ 2.6056e-02,  4.8997e-04, -5.6118e-03, -4.1869e-02],\n",
       "         [-1.4276e-02,  2.3531e-01, -1.9506e-01,  8.9122e-02],\n",
       "         [ 1.0364e-01, -1.7536e-01,  2.6120e-02, -7.7663e-02]]],\n",
       "       grad_fn=<UnsafeViewBackward0>)"
      ]
     },
     "execution_count": 7,
     "metadata": {},
     "output_type": "execute_result"
    }
   ],
   "source": [
    "sentence_meanings_whith_attention"
   ]
  },
  {
   "cell_type": "code",
   "execution_count": null,
   "id": "84bd9755",
   "metadata": {},
   "outputs": [],
   "source": []
  },
  {
   "cell_type": "code",
   "execution_count": null,
   "id": "7bd547db",
   "metadata": {},
   "outputs": [],
   "source": []
  }
 ],
 "metadata": {
  "kernelspec": {
   "display_name": "base",
   "language": "python",
   "name": "python3"
  },
  "language_info": {
   "codemirror_mode": {
    "name": "ipython",
    "version": 3
   },
   "file_extension": ".py",
   "mimetype": "text/x-python",
   "name": "python",
   "nbconvert_exporter": "python",
   "pygments_lexer": "ipython3",
   "version": "3.12.7"
  }
 },
 "nbformat": 4,
 "nbformat_minor": 5
}
