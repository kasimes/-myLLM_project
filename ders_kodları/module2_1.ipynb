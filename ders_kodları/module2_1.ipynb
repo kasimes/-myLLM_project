{
 "cells": [
  {
   "cell_type": "code",
   "execution_count": 1,
   "id": "0d94f914",
   "metadata": {},
   "outputs": [
    {
     "name": "stderr",
     "output_type": "stream",
     "text": [
      "C:\\Users\\kasim\\AppData\\Local\\Temp\\ipykernel_13756\\1443349770.py:9: UserWarning: To copy construct from a tensor, it is recommended to use sourceTensor.detach().clone() or sourceTensor.detach().clone().requires_grad_(True), rather than torch.tensor(sourceTensor).\n",
      "  tokens = torch.tensor(tokens).unsqueeze(0)  # Add batch dimension\n"
     ]
    },
    {
     "data": {
      "text/plain": [
       "Kasim_Model(\n",
       "  (embedding): Embedding(64, 4)\n",
       "  (pos_embed): Embedding(32, 4)\n",
       "  (self_attention): KasimCausalAttention(\n",
       "    (q_weight): Linear(in_features=4, out_features=4, bias=False)\n",
       "    (k_weight): Linear(in_features=4, out_features=4, bias=False)\n",
       "    (v_weight): Linear(in_features=4, out_features=4, bias=False)\n",
       "    (dropout): Dropout(p=0.5, inplace=False)\n",
       "  )\n",
       ")"
      ]
     },
     "execution_count": 1,
     "metadata": {},
     "output_type": "execute_result"
    }
   ],
   "source": [
    "import torch\n",
    "import torch.nn as nn\n",
    "from kasim_model import Kasim_Model\n",
    "from kasim_tokenizer import Tokenizer   \n",
    "\n",
    "k_tokenizer=Tokenizer(\"tokenizer.json\")\n",
    "sentence = \"the capital of united states and the capital of france\"\n",
    "tokens = k_tokenizer.encode(sentence)\n",
    "tokens = torch.tensor(tokens).unsqueeze(0)  # Add batch dimension\n",
    "\n",
    "\n",
    "k_model = Kasim_Model(vocab_size=len(k_tokenizer.vocab), embed_dim=4, context_length=32)\n",
    "k_model\n"
   ]
  },
  {
   "cell_type": "code",
   "execution_count": 2,
   "id": "65bfc1e0",
   "metadata": {},
   "outputs": [
    {
     "data": {
      "text/plain": [
       "tensor([[[ 0.4248,  0.1705, -1.9001,  2.5001],\n",
       "         [ 0.2162,  0.4196,  0.7077, -0.6772],\n",
       "         [-0.2929,  0.0077,  0.3337, -0.5017],\n",
       "         [ 0.1806,  0.0153,  0.0417, -0.1002],\n",
       "         [-0.4780, -0.3526,  0.6592, -1.0815],\n",
       "         [-0.1822, -0.1118, -0.3364,  0.3189],\n",
       "         [-0.3784, -0.1647,  0.7853, -1.0333],\n",
       "         [-0.1169, -0.0450,  0.9865, -1.1515],\n",
       "         [-0.0236, -0.0915,  0.2125, -0.3132],\n",
       "         [-0.0805, -0.0822,  0.3723, -0.4791],\n",
       "         [-0.0320, -0.1930,  0.4371, -0.6443],\n",
       "         [-0.2919, -0.6143,  0.6436, -1.0959],\n",
       "         [-0.1000, -0.1537,  0.2449, -0.3743],\n",
       "         [ 0.0220, -0.0403,  0.1353, -0.2665],\n",
       "         [ 0.0203, -0.2313,  0.1045, -0.2241],\n",
       "         [ 0.1158, -0.1941, -0.1055,  0.0604],\n",
       "         [ 0.0639, -0.0784,  0.5117, -0.6560],\n",
       "         [ 0.1312, -0.1224,  0.2375, -0.4013],\n",
       "         [ 0.1090, -0.0534,  0.1966, -0.2077],\n",
       "         [-0.0460, -0.2551,  0.3569, -0.5555]]], grad_fn=<UnsafeViewBackward0>)"
      ]
     },
     "execution_count": 2,
     "metadata": {},
     "output_type": "execute_result"
    }
   ],
   "source": [
    "sentence_meanings_whith_attention = k_model(tokens)\n",
    "sentence_meanings_whith_attention"
   ]
  },
  {
   "cell_type": "code",
   "execution_count": null,
   "id": "bdbc39b9",
   "metadata": {},
   "outputs": [],
   "source": []
  },
  {
   "cell_type": "code",
   "execution_count": null,
   "id": "84bd9755",
   "metadata": {},
   "outputs": [
    {
     "name": "stdout",
     "output_type": "stream",
     "text": [
      "Cosine benzerlik: 0.5855399966239929\n"
     ]
    }
   ],
   "source": []
  },
  {
   "cell_type": "code",
   "execution_count": null,
   "id": "7bd547db",
   "metadata": {},
   "outputs": [],
   "source": []
  }
 ],
 "metadata": {
  "kernelspec": {
   "display_name": "base",
   "language": "python",
   "name": "python3"
  },
  "language_info": {
   "codemirror_mode": {
    "name": "ipython",
    "version": 3
   },
   "file_extension": ".py",
   "mimetype": "text/x-python",
   "name": "python",
   "nbconvert_exporter": "python",
   "pygments_lexer": "ipython3",
   "version": "3.12.7"
  }
 },
 "nbformat": 4,
 "nbformat_minor": 5
}
